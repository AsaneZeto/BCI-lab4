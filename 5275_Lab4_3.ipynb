{
 "metadata": {
  "language_info": {
   "codemirror_mode": {
    "name": "ipython",
    "version": 3
   },
   "file_extension": ".py",
   "mimetype": "text/x-python",
   "name": "python",
   "nbconvert_exporter": "python",
   "pygments_lexer": "ipython3",
   "version": "3.8.3"
  },
  "orig_nbformat": 2,
  "kernelspec": {
   "name": "python383jvsc74a57bd0e39bfd749ce71f1c189d633e9a3ce35c9a6840b96a8cf25a8293ae636043fae8",
   "display_name": "Python 3.8.3 64-bit ('paul_test': conda)"
  }
 },
 "nbformat": 4,
 "nbformat_minor": 2,
 "cells": [
  {
   "cell_type": "code",
   "execution_count": 1,
   "metadata": {},
   "outputs": [],
   "source": [
    "import torch\n",
    "import torch.nn as nn\n",
    "import torch.optim as optim\n",
    "import torch.utils.data as Data\n",
    "import sys\n",
    "import scipy.io as io\n",
    "from operator import add\n",
    "sys.path.append('./model/')\n",
    "utils = __import__('5275_Lab4_3')\n",
    "model = __import__('model_pytorch')"
   ]
  },
  {
   "cell_type": "code",
   "execution_count": 2,
   "metadata": {},
   "outputs": [],
   "source": [
    "subject_list = ['S01', 'S02', 'S03', 'S04', 'S05', 'S06', 'S07', 'S08', 'S09']\n",
    "data_path = './BCICIV_2a_mat/'\n",
    "dev = torch.device(\"cuda:1\") if torch.cuda.is_available() else torch.device(\"cpu\")\n",
    "cls_criterion = nn.CrossEntropyLoss()\n",
    "clf_epoch = 500\n",
    "shuffle = True"
   ]
  },
  {
   "source": [
    "# Part 1\n",
    "## Problem 1"
   ],
   "cell_type": "markdown",
   "metadata": {}
  },
  {
   "source": [
    "x_train, y_train, x_test, y_test = utils.load_data(data_path=data_path, subject='S01', dev=dev)\n",
    "trainloader, testloader = utils.bci2a_dataloader(x_train, y_train, x_test, y_test,                                                              batch_size=32, shuffle_train=shuffle)"
   ],
   "cell_type": "code",
   "metadata": {},
   "execution_count": 3,
   "outputs": []
  },
  {
   "cell_type": "code",
   "execution_count": 6,
   "metadata": {},
   "outputs": [],
   "source": [
    "eegnet = model.EEGNet().to(dev)\n",
    "params = list(eegnet.parameters())\n",
    "optimizer = optim.Adam(params,lr=1e-3)"
   ]
  },
  {
   "cell_type": "code",
   "execution_count": 7,
   "metadata": {},
   "outputs": [
    {
     "output_type": "stream",
     "name": "stdout",
     "text": [
      "Starting Training...\n",
      "Done.\n"
     ]
    }
   ],
   "source": [
    "\"\"\" Training \"\"\"\n",
    "print('Start Training...')\n",
    "for epoch in range(clf_epoch):\n",
    "    eegnet.train()\n",
    "    for x_train, y_train in trainloader:\n",
    "        \n",
    "        pred = eegnet(x_train)\n",
    "        loss = cls_criterion(pred, y_train)\n",
    "        \n",
    "        loss.backward()\n",
    "        optimizer.step()\n",
    "        optimizer.zero_grad()\n",
    "\n",
    "\"\"\" Testing \"\"\"\n",
    "eegnet.eval()\n",
    "acc = 0\n",
    "clf_acc = torch.tensor([0,0,0,0], dtype=torch.float).to(dev)\n",
    "cls_count = torch.unique(testloader.dataset[:][1], return_counts=True)[1]\n",
    "confuse_m = torch.zeros((4,4), dtype=torch.int) # row = prediction, column = ground truth\n",
    "for x_test, y_test in testloader:\n",
    "    pred = eegnet(x_test)\n",
    "    pred_label = pred.argmax().long()\n",
    "    y_test = y_test.long()\n",
    "    confuse_m[pred_label, y_test] += 1\n",
    "    if pred_label == y_test:\n",
    "        acc += 1\n",
    "        clf_acc[pred.argmax()] += 1\n",
    "acc /=len(testloader)\n",
    "clf_acc = (clf_acc/cls_count).tolist()\n",
    "confuse_m = confuse_m.tolist()\n",
    "print('Done.')"
   ]
  },
  {
   "cell_type": "code",
   "execution_count": 8,
   "metadata": {},
   "outputs": [
    {
     "output_type": "stream",
     "name": "stdout",
     "text": [
      "Accuracy of EEGNet: 0.826389\n-----------------------------------\nOverall Accuracy:\nLabel\tAccuracy\n0\t0.861111\n1\t0.944444\n2\t0.722222\n3\t0.777778\n-----------------------------------\nconfusion matrix (prediction by Ground Truth):\n62 4 0 1\n9 68 2 0\n1 0 52 15\n0 0 18 56\n"
     ]
    }
   ],
   "source": [
    "utils.print_metric(model='EEGNet', scheme='Individual', acc=acc, clf_acc=clf_acc, conf_m=confuse_m)"
   ]
  },
  {
   "source": [
    "## Problem 2"
   ],
   "cell_type": "markdown",
   "metadata": {}
  },
  {
   "cell_type": "code",
   "execution_count": 5,
   "metadata": {},
   "outputs": [],
   "source": [
    "lr_list = [0.003, 0.001, 0.0003, 0.0001]\n",
    "batch_list = [64, 32, 8, 2]"
   ]
  },
  {
   "cell_type": "code",
   "execution_count": 6,
   "metadata": {},
   "outputs": [
    {
     "output_type": "stream",
     "name": "stdout",
     "text": [
      "Starting Training...\n",
      "Batch= 64, lr= 0.003, Acc= 0.774306\n",
      "Batch= 64, lr= 0.001, Acc= 0.777778\n",
      "Batch= 64, lr= 0.0003, Acc= 0.798611\n",
      "Batch= 64, lr= 0.0001, Acc= 0.743056\n",
      "Batch= 32, lr= 0.003, Acc= 0.791667\n",
      "Batch= 32, lr= 0.001, Acc= 0.815972\n",
      "Batch= 32, lr= 0.0003, Acc= 0.739583\n",
      "Batch= 32, lr= 0.0001, Acc= 0.729167\n",
      "Batch= 8, lr= 0.003, Acc= 0.802083\n",
      "Batch= 8, lr= 0.001, Acc= 0.809028\n",
      "Batch= 8, lr= 0.0003, Acc= 0.746528\n",
      "Batch= 8, lr= 0.0001, Acc= 0.722222\n",
      "Batch= 2, lr= 0.003, Acc= 0.739583\n",
      "Batch= 2, lr= 0.001, Acc= 0.781250\n",
      "Batch= 2, lr= 0.0003, Acc= 0.736111\n",
      "Batch= 2, lr= 0.0001, Acc= 0.729167\n"
     ]
    }
   ],
   "source": [
    "print('Start Training...')\n",
    "for batch in batch_list:\n",
    "    for lr in lr_list:\n",
    "        cls_criterion = nn.CrossEntropyLoss()\n",
    "        eegnet = model.EEGNet().to(dev)\n",
    "        params = list(eegnet.parameters())\n",
    "        optimizer = optim.Adam(params,lr=lr)                       \n",
    "        for epoch in range(clf_epoch):\n",
    "            eegnet.train()\n",
    "            for x_train, y_train in trainloader:\n",
    "                \n",
    "                pred = eegnet(x_train)\n",
    "                loss = cls_criterion(pred, y_train)\n",
    "                \n",
    "                loss.backward()\n",
    "                optimizer.step()\n",
    "                optimizer.zero_grad()\n",
    "\n",
    "        \"\"\" Testing \"\"\"\n",
    "        eegnet.eval()\n",
    "        acc = 0\n",
    "        for x_test, y_test in testloader:\n",
    "            pred = eegnet(x_test)\n",
    "            pred_label = pred.argmax().long()\n",
    "            if pred_label == y_test:\n",
    "                acc += 1\n",
    "        acc /=len(testloader)\n",
    "        print('Batch= {}, lr= {}, Acc= {:5f}'.format(batch, lr, acc))"
   ]
  },
  {
   "source": [
    "## Problem 3\n",
    "### Subject independent"
   ],
   "cell_type": "markdown",
   "metadata": {}
  },
  {
   "cell_type": "code",
   "execution_count": 9,
   "metadata": {},
   "outputs": [],
   "source": [
    "x_train, y_train, x_test, y_test = utils.load_data_si(data_path=data_path,subject_list=subject_list,  subject2leave='S01', dev=dev)\n",
    "trainloader_si, testloader_si = utils.bci2a_dataloader(x_train, y_train, x_test, y_test,                                                              batch_size=32, shuffle_train=shuffle)"
   ]
  },
  {
   "cell_type": "code",
   "execution_count": 10,
   "metadata": {},
   "outputs": [],
   "source": [
    "eegnet_si = model.EEGNet().to(dev)\n",
    "params = list(eegnet_si.parameters())\n",
    "optimizer = optim.Adam(params, lr=1e-3)"
   ]
  },
  {
   "cell_type": "code",
   "execution_count": 11,
   "metadata": {},
   "outputs": [
    {
     "output_type": "stream",
     "name": "stdout",
     "text": [
      "Start Training...\n",
      "Done.\n"
     ]
    }
   ],
   "source": [
    "\"\"\" Training \"\"\"\n",
    "print('Start Training...')\n",
    "for epoch in range(clf_epoch):\n",
    "    eegnet_si.train()\n",
    "    for x_train, y_train in trainloader_si:\n",
    "        \n",
    "        pred = eegnet_si(x_train)\n",
    "        loss = cls_criterion(pred, y_train)\n",
    "        \n",
    "        loss.backward()\n",
    "        optimizer.step()\n",
    "        optimizer.zero_grad()\n",
    "\n",
    "\"\"\" Testing \"\"\"\n",
    "eegnet_si.eval()\n",
    "acc = 0\n",
    "clf_acc_si = torch.tensor([0,0,0,0], dtype=torch.float).to(dev)\n",
    "cls_count_si = torch.unique(testloader_si.dataset[:][1], return_counts=True)[1]\n",
    "confuse_m_si = torch.zeros((4,4), dtype=torch.int) # row = prediction, column = ground truth\n",
    "for x_test, y_test in testloader_si:\n",
    "    pred = eegnet_si(x_test)\n",
    "    pred_label = pred.argmax().long()\n",
    "    y_test = y_test.long()\n",
    "    confuse_m_si[pred_label, y_test] += 1\n",
    "    if pred_label == y_test:\n",
    "        acc += 1\n",
    "        clf_acc_si[pred.argmax()] += 1\n",
    "acc /=len(testloader_si)\n",
    "clf_acc_si = (clf_acc_si/cls_count_si).tolist()\n",
    "confuse_m_si = confuse_m_si.tolist()\n",
    "print('Done.')"
   ]
  },
  {
   "cell_type": "code",
   "execution_count": 12,
   "metadata": {},
   "outputs": [
    {
     "output_type": "stream",
     "name": "stdout",
     "text": [
      "Accuracy of EEGNet: 0.635417\n-----------------------------------\nOverall Accuracy:\nLabel\tAccuracy\n0\t0.944444\n1\t0.750000\n2\t0.666667\n3\t0.180556\n-----------------------------------\nconfusion matrix (prediction by Ground Truth):\n68 18 20 21\n4 54 1 1\n0 0 48 37\n0 0 3 13\n"
     ]
    }
   ],
   "source": [
    "utils.print_metric(model='EEGNet', scheme='SI', acc, clf_acc_si, confuse_m_si)"
   ]
  },
  {
   "source": [
    "### Subject dependent"
   ],
   "cell_type": "markdown",
   "metadata": {}
  },
  {
   "cell_type": "code",
   "execution_count": 3,
   "metadata": {},
   "outputs": [],
   "source": [
    "x_train, y_train, x_test, y_test = utils.load_data_sd(data_path=data_path,subject_list=subject_list,  subject2leave='S01', dev=dev)\n",
    "trainloader_sd, testloader_sd = utils.bci2a_dataloader(x_train, y_train, x_test, y_test,                                                              batch_size=32, shuffle_train=shuffle)"
   ]
  },
  {
   "cell_type": "code",
   "execution_count": 4,
   "metadata": {},
   "outputs": [],
   "source": [
    "eegnet_sd = model.EEGNet().to(dev)\n",
    "params = list(eegnet_sd.parameters())\n",
    "optimizer = optim.Adam(params, lr=1e-3)"
   ]
  },
  {
   "cell_type": "code",
   "execution_count": 5,
   "metadata": {},
   "outputs": [
    {
     "output_type": "stream",
     "name": "stdout",
     "text": [
      "Start Training...\n",
      "Done.\n"
     ]
    }
   ],
   "source": [
    "\"\"\" Training \"\"\"\n",
    "print('Start Training...')\n",
    "for epoch in range(clf_epoch):\n",
    "    eegnet_sd.train()\n",
    "    for x_train, y_train in trainloader_sd:\n",
    "        \n",
    "        pred = eegnet_sd(x_train)\n",
    "        loss = cls_criterion(pred, y_train)\n",
    "        \n",
    "        loss.backward()\n",
    "        optimizer.step()\n",
    "        optimizer.zero_grad()\n",
    "\n",
    "\"\"\" Testing \"\"\"\n",
    "eegnet_sd.eval()\n",
    "acc = 0\n",
    "clf_acc_sd = torch.tensor([0,0,0,0], dtype=torch.float).to(dev)\n",
    "cls_count_sd = torch.unique(testloader_sd.dataset[:][1], return_counts=True)[1]\n",
    "confuse_m_sd = torch.zeros((4,4), dtype=torch.int) # row = prediction, column = ground truth\n",
    "for x_test, y_test in testloader_sd:\n",
    "    pred = eegnet_sd(x_test)\n",
    "    pred_label = pred.argmax().long()\n",
    "    y_test = y_test.long()\n",
    "    confuse_m_sd[pred_label, y_test] += 1\n",
    "    if pred_label == y_test:\n",
    "        acc += 1\n",
    "        clf_acc_sd[pred.argmax()] += 1\n",
    "acc /=len(testloader_sd)\n",
    "clf_acc_sd = (clf_acc_sd/cls_count_sd).tolist()\n",
    "confuse_m_sd = confuse_m_sd.tolist()\n",
    "print('Done.')"
   ]
  },
  {
   "cell_type": "code",
   "execution_count": 8,
   "metadata": {},
   "outputs": [
    {
     "output_type": "stream",
     "name": "stdout",
     "text": [
      "Accuracy of EEGNetSD: 0.781250\n-----------------------------------\nOverall Accuracy:\nLabel\tAccuracy\n0\t0.930556\n1\t0.847222\n2\t0.861111\n3\t0.486111\n-----------------------------------\nConfusion matrix (Prediction by Ground Truth):\n67 9 3 4\n1 61 0 0\n3 2 62 33\n1 0 7 35\n"
     ]
    }
   ],
   "source": [
    "utils.print_metric(model='EEGNet', scheme='SD', acc=acc, clf_acc=clf_acc_sd, conf_m=confuse_m_sd)"
   ]
  },
  {
   "source": [
    "### SI+FT"
   ],
   "cell_type": "markdown",
   "metadata": {}
  },
  {
   "cell_type": "code",
   "execution_count": 13,
   "metadata": {},
   "outputs": [],
   "source": [
    "x_train, y_train, x_test, y_test = utils.load_data(data_path=data_path, subject='S01', dev=dev)\n",
    "trainloader_sift, testloader_sift = utils.bci2a_dataloader(x_train, y_train, x_test, y_test,                                                              batch_size=32, shuffle_train=shuffle)"
   ]
  },
  {
   "cell_type": "code",
   "execution_count": 14,
   "metadata": {},
   "outputs": [],
   "source": [
    "params = list(eegnet_si.parameters())\n",
    "optimizer = optim.Adam(params, lr=1e-3)"
   ]
  },
  {
   "cell_type": "code",
   "execution_count": 15,
   "metadata": {},
   "outputs": [
    {
     "output_type": "stream",
     "name": "stdout",
     "text": [
      "Start Training...\n",
      "Done.\n"
     ]
    }
   ],
   "source": [
    "\"\"\" Training \"\"\"\n",
    "print('Start Training...')\n",
    "for epoch in range(clf_epoch):\n",
    "    eegnet_si.train()\n",
    "    for x_train, y_train in trainloader_sift:\n",
    "        \n",
    "        pred = eegnet_si(x_train)\n",
    "        loss = cls_criterion(pred, y_train)\n",
    "        \n",
    "        loss.backward()\n",
    "        optimizer.step()\n",
    "        optimizer.zero_grad()\n",
    "\n",
    "\"\"\" Testing \"\"\"\n",
    "eegnet_si.eval()\n",
    "acc = 0\n",
    "clf_acc_sift = torch.tensor([0,0,0,0], dtype=torch.float).to(dev)\n",
    "cls_count_sift = torch.unique(testloader_sift.dataset[:][1], return_counts=True)[1]\n",
    "confuse_m_sift = torch.zeros((4,4), dtype=torch.int) # row = prediction, column = ground truth\n",
    "for x_test, y_test in testloader_sift:\n",
    "    pred = eegnet_si(x_test)\n",
    "    pred_label = pred.argmax().long()\n",
    "    y_test = y_test.long()\n",
    "    confuse_m_sift[pred_label, y_test] += 1\n",
    "    if pred_label == y_test:\n",
    "        acc += 1\n",
    "        clf_acc_sift[pred.argmax()] += 1\n",
    "acc /= len(testloader_sift)\n",
    "clf_acc_sift = (clf_acc_sift/cls_count_sift).tolist()\n",
    "confuse_m_sift = confuse_m_sift.tolist()\n",
    "print('Done.')"
   ]
  },
  {
   "cell_type": "code",
   "execution_count": 16,
   "metadata": {},
   "outputs": [
    {
     "output_type": "stream",
     "name": "stdout",
     "text": [
      "Accuracy of EEGNet: 0.833333\n-----------------------------------\nOverall Accuracy:\nLabel\tAccuracy\n0\t0.958333\n1\t0.902778\n2\t0.944444\n3\t0.527778\n-----------------------------------\nconfusion matrix (prediction by Ground Truth):\n69 7 1 1\n1 65 1 0\n2 0 68 33\n0 0 2 38\n"
     ]
    }
   ],
   "source": [
    "utils.print_metric(model='EEGNet', scheme='SI+FT', acc, clf_acc_sift, confuse_m_sift)"
   ]
  },
  {
   "source": [
    "# Part 2\n",
    "## Problem 1\n",
    "---\n",
    "## ShallowConvNet\n",
    "### Individual"
   ],
   "cell_type": "markdown",
   "metadata": {}
  },
  {
   "cell_type": "code",
   "execution_count": 9,
   "metadata": {},
   "outputs": [],
   "source": [
    "x_train, y_train, x_test, y_test = utils.load_data(data_path=data_path, subject='S01', dev=dev)\n",
    "trainloader, testloader = utils.bci2a_dataloader(x_train, y_train, x_test, y_test,                                                              batch_size=32, shuffle_train=shuffle)"
   ]
  },
  {
   "cell_type": "code",
   "execution_count": 10,
   "metadata": {},
   "outputs": [],
   "source": [
    "scnet = model.ShallowConvNet().to(dev)\n",
    "params = list(scnet.parameters())\n",
    "optimizer = optim.Adam(params,lr=1e-3)"
   ]
  },
  {
   "cell_type": "code",
   "execution_count": 11,
   "metadata": {},
   "outputs": [
    {
     "output_type": "stream",
     "name": "stdout",
     "text": [
      "Start Training...\n",
      "Done.\n"
     ]
    }
   ],
   "source": [
    "\"\"\" Training \"\"\"\n",
    "print('Start Training...')\n",
    "for epoch in range(clf_epoch):\n",
    "    scnet.train()\n",
    "    for x_train, y_train in trainloader:\n",
    "        \n",
    "        pred = scnet(x_train)\n",
    "        loss = cls_criterion(pred, y_train)\n",
    "        \n",
    "        loss.backward()\n",
    "        optimizer.step()\n",
    "        optimizer.zero_grad()\n",
    "\n",
    "\"\"\" Testing \"\"\"\n",
    "scnet.eval()\n",
    "acc = 0\n",
    "clf_acc = torch.tensor([0,0,0,0], dtype=torch.float).to(dev)\n",
    "cls_count = torch.unique(testloader.dataset[:][1], return_counts=True)[1]\n",
    "confuse_m = torch.zeros((4,4), dtype=torch.int) # row = prediction, column = ground truth\n",
    "for x_test, y_test in testloader:\n",
    "    pred = scnet(x_test)\n",
    "    pred_label = pred.argmax().long()\n",
    "    y_test = y_test.long()\n",
    "    confuse_m[pred_label, y_test] += 1\n",
    "    if pred_label == y_test:\n",
    "        acc += 1\n",
    "        clf_acc[pred.argmax()] += 1\n",
    "acc /=len(testloader)\n",
    "clf_acc = (clf_acc/cls_count).tolist()\n",
    "confuse_m = confuse_m.tolist()\n",
    "print('Done.')"
   ]
  },
  {
   "cell_type": "code",
   "execution_count": 12,
   "metadata": {},
   "outputs": [
    {
     "output_type": "stream",
     "name": "stdout",
     "text": [
      "Accuracy of ShallowConvNetIndividual: 0.652778\n-----------------------------------\nOverall Accuracy:\nLabel\tAccuracy\n0\t0.722222\n1\t0.805556\n2\t0.472222\n3\t0.611111\n-----------------------------------\nConfusion matrix (Prediction by Ground Truth):\n52 14 4 1\n9 58 0 0\n6 0 34 27\n5 0 34 44\n"
     ]
    }
   ],
   "source": [
    "utils.print_metric(model='ShallowConvNet', scheme='Individual', acc=acc, clf_acc=clf_acc, conf_m=confuse_m)"
   ]
  },
  {
   "source": [
    "### Subject Independent"
   ],
   "cell_type": "markdown",
   "metadata": {}
  },
  {
   "cell_type": "code",
   "execution_count": 3,
   "metadata": {},
   "outputs": [],
   "source": [
    "x_train, y_train, x_test, y_test = utils.load_data_si(data_path=data_path,subject_list=subject_list,  subject2leave='S01', dev=dev)\n",
    "trainloader_si, testloader_si = utils.bci2a_dataloader(x_train, y_train, x_test, y_test,                                                              batch_size=32, shuffle_train=shuffle)"
   ]
  },
  {
   "cell_type": "code",
   "execution_count": 4,
   "metadata": {},
   "outputs": [],
   "source": [
    "scnet_si = model.ShallowConvNet().to(dev)\n",
    "params = list(scnet_si.parameters())\n",
    "optimizer = optim.Adam(params, lr=1e-3)"
   ]
  },
  {
   "cell_type": "code",
   "execution_count": 5,
   "metadata": {},
   "outputs": [
    {
     "output_type": "stream",
     "name": "stdout",
     "text": [
      "Start Training...\n",
      "Done.\n"
     ]
    }
   ],
   "source": [
    "\"\"\" Training \"\"\"\n",
    "print('Start Training...')\n",
    "for epoch in range(clf_epoch):\n",
    "    scnet_si.train()\n",
    "    for x_train, y_train in trainloader_si:\n",
    "        \n",
    "        pred = scnet_si(x_train)\n",
    "        loss = cls_criterion(pred, y_train)\n",
    "        \n",
    "        loss.backward()\n",
    "        optimizer.step()\n",
    "        optimizer.zero_grad()\n",
    "\n",
    "\"\"\" Testing \"\"\"\n",
    "scnet_si.eval()\n",
    "acc = 0\n",
    "clf_acc_si = torch.tensor([0,0,0,0], dtype=torch.float).to(dev)\n",
    "cls_count_si = torch.unique(testloader_si.dataset[:][1], return_counts=True)[1]\n",
    "confuse_m_si = torch.zeros((4,4), dtype=torch.int) # row = prediction, column = ground truth\n",
    "for x_test, y_test in testloader_si:\n",
    "    pred = scnet_si(x_test)\n",
    "    pred_label = pred.argmax().long()\n",
    "    y_test = y_test.long()\n",
    "    confuse_m_si[pred_label, y_test] += 1\n",
    "    if pred_label == y_test:\n",
    "        acc += 1\n",
    "        clf_acc_si[pred.argmax()] += 1\n",
    "acc /=len(testloader_si)\n",
    "clf_acc_si = (clf_acc_si/cls_count_si).tolist()\n",
    "confuse_m_si = confuse_m_si.tolist()\n",
    "print('Done.')"
   ]
  },
  {
   "cell_type": "code",
   "execution_count": 6,
   "metadata": {},
   "outputs": [
    {
     "output_type": "stream",
     "name": "stdout",
     "text": [
      "Accuracy of ShallowConvNetSI: 0.642361\n-----------------------------------\nOverall Accuracy:\nLabel\tAccuracy\n0\t0.875000\n1\t0.819444\n2\t0.319444\n3\t0.555556\n-----------------------------------\nConfusion matrix (Prediction by Ground Truth):\n63 9 17 11\n8 59 10 7\n0 1 23 14\n1 3 22 40\n"
     ]
    }
   ],
   "source": [
    "utils.print_metric(model='ShallowConvNet', scheme='SI', acc=acc, clf_acc=clf_acc_si, conf_m=confuse_m_si)"
   ]
  },
  {
   "source": [
    "### Subject dependent"
   ],
   "cell_type": "markdown",
   "metadata": {}
  },
  {
   "cell_type": "code",
   "execution_count": 7,
   "metadata": {},
   "outputs": [],
   "source": [
    "x_train, y_train, x_test, y_test = utils.load_data_sd(data_path=data_path,subject_list=subject_list,  subject2leave='S01', dev=dev)\n",
    "trainloader_sd, testloader_sd = utils.bci2a_dataloader(x_train, y_train, x_test, y_test,                                                              batch_size=32, shuffle_train=shuffle)"
   ]
  },
  {
   "cell_type": "code",
   "execution_count": 8,
   "metadata": {},
   "outputs": [],
   "source": [
    "scnet_sd = model.ShallowConvNet().to(dev)\n",
    "params = list(scnet_sd.parameters())\n",
    "optimizer = optim.Adam(params, lr=1e-3)"
   ]
  },
  {
   "cell_type": "code",
   "execution_count": 9,
   "metadata": {},
   "outputs": [
    {
     "output_type": "stream",
     "name": "stdout",
     "text": [
      "Start Training...\n",
      "Done.\n"
     ]
    }
   ],
   "source": [
    "\"\"\" Training \"\"\"\n",
    "print('Start Training...')\n",
    "for epoch in range(clf_epoch):\n",
    "    scnet_sd.train()\n",
    "    for x_train, y_train in trainloader_sd:\n",
    "        \n",
    "        pred = scnet_sd(x_train)\n",
    "        loss = cls_criterion(pred, y_train)\n",
    "        \n",
    "        loss.backward()\n",
    "        optimizer.step()\n",
    "        optimizer.zero_grad()\n",
    "\n",
    "\"\"\" Testing \"\"\"\n",
    "scnet_sd.eval()\n",
    "acc = 0\n",
    "clf_acc_sd = torch.tensor([0,0,0,0], dtype=torch.float).to(dev)\n",
    "cls_count_sd = torch.unique(testloader_sd.dataset[:][1], return_counts=True)[1]\n",
    "confuse_m_sd = torch.zeros((4,4), dtype=torch.int) # row = prediction, column = ground truth\n",
    "for x_test, y_test in testloader_sd:\n",
    "    pred = scnet_sd(x_test)\n",
    "    pred_label = pred.argmax().long()\n",
    "    y_test = y_test.long()\n",
    "    confuse_m_sd[pred_label, y_test] += 1\n",
    "    if pred_label == y_test:\n",
    "        acc += 1\n",
    "        clf_acc_sd[pred.argmax()] += 1\n",
    "acc /=len(testloader_sd)\n",
    "clf_acc_sd = (clf_acc_sd/cls_count_sd).tolist()\n",
    "confuse_m_sd = confuse_m_sd.tolist()\n",
    "print('Done.')"
   ]
  },
  {
   "cell_type": "code",
   "execution_count": 10,
   "metadata": {},
   "outputs": [
    {
     "output_type": "stream",
     "name": "stdout",
     "text": [
      "Accuracy of ShallowConvNetSD: 0.750000\n-----------------------------------\nOverall Accuracy:\nLabel\tAccuracy\n0\t0.875000\n1\t0.944444\n2\t0.555556\n3\t0.625000\n-----------------------------------\nConfusion matrix (Prediction by Ground Truth):\n63 3 6 6\n7 68 3 1\n1 0 40 20\n1 1 23 45\n"
     ]
    }
   ],
   "source": [
    "utils.print_metric(model='ShallowConvNet', scheme='SD', acc=acc, clf_acc=clf_acc_sd, conf_m=confuse_m_sd)"
   ]
  },
  {
   "source": [
    "### SI+FT"
   ],
   "cell_type": "markdown",
   "metadata": {}
  },
  {
   "cell_type": "code",
   "execution_count": 11,
   "metadata": {},
   "outputs": [],
   "source": [
    "x_train, y_train, x_test, y_test = utils.load_data(data_path=data_path, subject='S01', dev=dev)\n",
    "trainloader_sift, testloader_sift = utils.bci2a_dataloader(x_train, y_train, x_test, y_test,                                                              batch_size=32, shuffle_train=shuffle)"
   ]
  },
  {
   "cell_type": "code",
   "execution_count": 12,
   "metadata": {},
   "outputs": [],
   "source": [
    "params = list(scnet_si.parameters())\n",
    "optimizer = optim.Adam(params, lr=1e-3)"
   ]
  },
  {
   "cell_type": "code",
   "execution_count": 13,
   "metadata": {},
   "outputs": [
    {
     "output_type": "stream",
     "name": "stdout",
     "text": [
      "Start Training...\n",
      "Done.\n"
     ]
    }
   ],
   "source": [
    "\"\"\" Training \"\"\"\n",
    "print('Start Training...')\n",
    "for epoch in range(clf_epoch):\n",
    "    scnet_si.train()\n",
    "    for x_train, y_train in trainloader_sift:\n",
    "        \n",
    "        pred = scnet_si(x_train)\n",
    "        loss = cls_criterion(pred, y_train)\n",
    "        \n",
    "        loss.backward()\n",
    "        optimizer.step()\n",
    "        optimizer.zero_grad()\n",
    "\n",
    "\"\"\" Testing \"\"\"\n",
    "scnet_si.eval()\n",
    "acc = 0\n",
    "clf_acc_sift = torch.tensor([0,0,0,0], dtype=torch.float).to(dev)\n",
    "cls_count_sift = torch.unique(testloader_sift.dataset[:][1], return_counts=True)[1]\n",
    "confuse_m_sift = torch.zeros((4,4), dtype=torch.int) # row = prediction, column = ground truth\n",
    "for x_test, y_test in testloader_sift:\n",
    "    pred = scnet_si(x_test)\n",
    "    pred_label = pred.argmax().long()\n",
    "    y_test = y_test.long()\n",
    "    confuse_m_sift[pred_label, y_test] += 1\n",
    "    if pred_label == y_test:\n",
    "        acc += 1\n",
    "        clf_acc_sift[pred.argmax()] += 1\n",
    "acc /= len(testloader_sift)\n",
    "clf_acc_sift = (clf_acc_sift/cls_count_sift).tolist()\n",
    "confuse_m_sift = confuse_m_sift.tolist()\n",
    "print('Done.')"
   ]
  },
  {
   "cell_type": "code",
   "execution_count": 14,
   "metadata": {},
   "outputs": [
    {
     "output_type": "stream",
     "name": "stdout",
     "text": [
      "Accuracy of ShallowConvNetSI+FT: 0.767361\n-----------------------------------\nOverall Accuracy:\nLabel\tAccuracy\n0\t0.861111\n1\t0.888889\n2\t0.541667\n3\t0.777778\n-----------------------------------\nConfusion matrix (Prediction by Ground Truth):\n62 7 8 2\n6 64 2 0\n1 1 39 14\n3 0 23 56\n"
     ]
    }
   ],
   "source": [
    "utils.print_metric(model='ShallowConvNet', scheme='SI+FT', acc=acc, clf_acc=clf_acc_sift, conf_m=confuse_m_sift)"
   ]
  },
  {
   "source": [
    "## SCCNet\n",
    "### Individual"
   ],
   "cell_type": "markdown",
   "metadata": {}
  },
  {
   "cell_type": "code",
   "execution_count": 15,
   "metadata": {},
   "outputs": [],
   "source": [
    "x_train, y_train, x_test, y_test = utils.load_data(data_path=data_path, subject='S01', dev=dev)\n",
    "trainloader, testloader = utils.bci2a_dataloader(x_train, y_train, x_test, y_test,                                                              batch_size=32, shuffle_train=shuffle)"
   ]
  },
  {
   "cell_type": "code",
   "execution_count": 16,
   "metadata": {},
   "outputs": [],
   "source": [
    "sccnet = model.SCCNet().to(dev)\n",
    "params = list(sccnet.parameters())\n",
    "optimizer = optim.Adam(params,lr=1e-3)"
   ]
  },
  {
   "cell_type": "code",
   "execution_count": 17,
   "metadata": {},
   "outputs": [
    {
     "output_type": "stream",
     "name": "stdout",
     "text": [
      "Start Training...\n",
      "Done.\n"
     ]
    }
   ],
   "source": [
    "\"\"\" Training \"\"\"\n",
    "print('Start Training...')\n",
    "for epoch in range(clf_epoch):\n",
    "    sccnet.train()\n",
    "    for x_train, y_train in trainloader:\n",
    "        \n",
    "        pred = sccnet(x_train)\n",
    "        loss = cls_criterion(pred, y_train)\n",
    "        \n",
    "        loss.backward()\n",
    "        optimizer.step()\n",
    "        optimizer.zero_grad()\n",
    "\n",
    "\"\"\" Testing \"\"\"\n",
    "sccnet.eval()\n",
    "acc = 0\n",
    "clf_acc = torch.tensor([0,0,0,0], dtype=torch.float).to(dev)\n",
    "cls_count = torch.unique(testloader.dataset[:][1], return_counts=True)[1]\n",
    "confuse_m = torch.zeros((4,4), dtype=torch.int) # row = prediction, column = ground truth\n",
    "for x_test, y_test in testloader:\n",
    "    pred = sccnet(x_test)\n",
    "    pred_label = pred.argmax().long()\n",
    "    y_test = y_test.long()\n",
    "    confuse_m[pred_label, y_test] += 1\n",
    "    if pred_label == y_test:\n",
    "        acc += 1\n",
    "        clf_acc[pred.argmax()] += 1\n",
    "acc /=len(testloader)\n",
    "clf_acc = (clf_acc/cls_count).tolist()\n",
    "confuse_m = confuse_m.tolist()\n",
    "print('Done.')"
   ]
  },
  {
   "cell_type": "code",
   "execution_count": 18,
   "metadata": {},
   "outputs": [
    {
     "output_type": "stream",
     "name": "stdout",
     "text": [
      "Accuracy of SCCNetIndividual: 0.815972\n-----------------------------------\nOverall Accuracy:\nLabel\tAccuracy\n0\t0.958333\n1\t0.916667\n2\t0.583333\n3\t0.805556\n-----------------------------------\nConfusion matrix (Prediction by Ground Truth):\n69 6 2 1\n1 66 1 0\n1 0 42 13\n1 0 27 58\n"
     ]
    }
   ],
   "source": [
    "utils.print_metric(model='SCCNet', scheme='Individual', acc=acc, clf_acc=clf_acc, conf_m=confuse_m)"
   ]
  },
  {
   "source": [
    "### Subject Independent"
   ],
   "cell_type": "markdown",
   "metadata": {}
  },
  {
   "cell_type": "code",
   "execution_count": 19,
   "metadata": {},
   "outputs": [],
   "source": [
    "x_train, y_train, x_test, y_test = utils.load_data_si(data_path=data_path,subject_list=subject_list,  subject2leave='S01', dev=dev)\n",
    "trainloader_si, testloader_si = utils.bci2a_dataloader(x_train, y_train, x_test, y_test,                                                              batch_size=32, shuffle_train=shuffle)"
   ]
  },
  {
   "cell_type": "code",
   "execution_count": 20,
   "metadata": {},
   "outputs": [],
   "source": [
    "sccnet_si = model.ShallowConvNet().to(dev)\n",
    "params = list(sccnet_si.parameters())\n",
    "optimizer = optim.Adam(params, lr=1e-3)"
   ]
  },
  {
   "cell_type": "code",
   "execution_count": 21,
   "metadata": {},
   "outputs": [
    {
     "output_type": "stream",
     "name": "stdout",
     "text": [
      "Start Training...\n",
      "Done.\n"
     ]
    }
   ],
   "source": [
    "\"\"\" Training \"\"\"\n",
    "print('Start Training...')\n",
    "for epoch in range(clf_epoch):\n",
    "    sccnet_si.train()\n",
    "    for x_train, y_train in trainloader_si:\n",
    "        \n",
    "        pred = sccnet_si(x_train)\n",
    "        loss = cls_criterion(pred, y_train)\n",
    "        \n",
    "        loss.backward()\n",
    "        optimizer.step()\n",
    "        optimizer.zero_grad()\n",
    "\n",
    "\"\"\" Testing \"\"\"\n",
    "sccnet_si.eval()\n",
    "acc = 0\n",
    "clf_acc_si = torch.tensor([0,0,0,0], dtype=torch.float).to(dev)\n",
    "cls_count_si = torch.unique(testloader_si.dataset[:][1], return_counts=True)[1]\n",
    "confuse_m_si = torch.zeros((4,4), dtype=torch.int) # row = prediction, column = ground truth\n",
    "for x_test, y_test in testloader_si:\n",
    "    pred = sccnet_si(x_test)\n",
    "    pred_label = pred.argmax().long()\n",
    "    y_test = y_test.long()\n",
    "    confuse_m_si[pred_label, y_test] += 1\n",
    "    if pred_label == y_test:\n",
    "        acc += 1\n",
    "        clf_acc_si[pred.argmax()] += 1\n",
    "acc /=len(testloader_si)\n",
    "clf_acc_si = (clf_acc_si/cls_count_si).tolist()\n",
    "confuse_m_si = confuse_m_si.tolist()\n",
    "print('Done.')"
   ]
  },
  {
   "cell_type": "code",
   "execution_count": 22,
   "metadata": {},
   "outputs": [
    {
     "output_type": "stream",
     "name": "stdout",
     "text": [
      "Accuracy of SCCNetSI: 0.680556\n-----------------------------------\nOverall Accuracy:\nLabel\tAccuracy\n0\t0.791667\n1\t0.777778\n2\t0.472222\n3\t0.680556\n-----------------------------------\nConfusion matrix (Prediction by Ground Truth):\n57 11 9 9\n8 56 6 3\n5 3 34 11\n2 2 23 49\n"
     ]
    }
   ],
   "source": [
    "utils.print_metric(model='SCCNet', scheme='SI', acc=acc, clf_acc=clf_acc_si, conf_m=confuse_m_si)"
   ]
  },
  {
   "source": [
    "### Subject dependent"
   ],
   "cell_type": "markdown",
   "metadata": {}
  },
  {
   "cell_type": "code",
   "execution_count": 23,
   "metadata": {},
   "outputs": [],
   "source": [
    "x_train, y_train, x_test, y_test = utils.load_data_sd(data_path=data_path,subject_list=subject_list,  subject2leave='S01', dev=dev)\n",
    "trainloader_sd, testloader_sd = utils.bci2a_dataloader(x_train, y_train, x_test, y_test,                                                              batch_size=32, shuffle_train=shuffle)"
   ]
  },
  {
   "cell_type": "code",
   "execution_count": 24,
   "metadata": {},
   "outputs": [],
   "source": [
    "sccnet_sd = model.ShallowConvNet().to(dev)\n",
    "params = list(sccnet_sd.parameters())\n",
    "optimizer = optim.Adam(params, lr=1e-3)"
   ]
  },
  {
   "cell_type": "code",
   "execution_count": 25,
   "metadata": {},
   "outputs": [
    {
     "output_type": "stream",
     "name": "stdout",
     "text": [
      "Start Training...\n",
      "Done.\n"
     ]
    }
   ],
   "source": [
    "\"\"\" Training \"\"\"\n",
    "print('Start Training...')\n",
    "for epoch in range(clf_epoch):\n",
    "    scnet_sd.train()\n",
    "    for x_train, y_train in trainloader_sd:\n",
    "        \n",
    "        pred = scnet_sd(x_train)\n",
    "        loss = cls_criterion(pred, y_train)\n",
    "        \n",
    "        loss.backward()\n",
    "        optimizer.step()\n",
    "        optimizer.zero_grad()\n",
    "\n",
    "\"\"\" Testing \"\"\"\n",
    "scnet_sd.eval()\n",
    "acc = 0\n",
    "clf_acc_sd = torch.tensor([0,0,0,0], dtype=torch.float).to(dev)\n",
    "cls_count_sd = torch.unique(testloader_sd.dataset[:][1], return_counts=True)[1]\n",
    "confuse_m_sd = torch.zeros((4,4), dtype=torch.int) # row = prediction, column = ground truth\n",
    "for x_test, y_test in testloader_sd:\n",
    "    pred = scnet_sd(x_test)\n",
    "    pred_label = pred.argmax().long()\n",
    "    y_test = y_test.long()\n",
    "    confuse_m_sd[pred_label, y_test] += 1\n",
    "    if pred_label == y_test:\n",
    "        acc += 1\n",
    "        clf_acc_sd[pred.argmax()] += 1\n",
    "acc /=len(testloader_sd)\n",
    "clf_acc_sd = (clf_acc_sd/cls_count_sd).tolist()\n",
    "confuse_m_sd = confuse_m_sd.tolist()\n",
    "print('Done.')"
   ]
  },
  {
   "cell_type": "code",
   "execution_count": 26,
   "metadata": {},
   "outputs": [
    {
     "output_type": "stream",
     "name": "stdout",
     "text": [
      "Accuracy of SCCNetSD: 0.763889\n-----------------------------------\nOverall Accuracy:\nLabel\tAccuracy\n0\t0.875000\n1\t0.930556\n2\t0.486111\n3\t0.763889\n-----------------------------------\nConfusion matrix (Prediction by Ground Truth):\n63 4 5 4\n5 67 3 0\n1 0 35 13\n3 1 29 55\n"
     ]
    }
   ],
   "source": [
    "utils.print_metric(model='SCCNet', scheme='SD', acc=acc, clf_acc=clf_acc_sd, conf_m=confuse_m_sd)"
   ]
  },
  {
   "source": [
    "### SI+FT"
   ],
   "cell_type": "markdown",
   "metadata": {}
  },
  {
   "cell_type": "code",
   "execution_count": 27,
   "metadata": {},
   "outputs": [],
   "source": [
    "x_train, y_train, x_test, y_test = utils.load_data(data_path=data_path, subject='S01', dev=dev)\n",
    "trainloader_sift, testloader_sift = utils.bci2a_dataloader(x_train, y_train, x_test, y_test,                                                              batch_size=32, shuffle_train=shuffle)"
   ]
  },
  {
   "cell_type": "code",
   "execution_count": 28,
   "metadata": {},
   "outputs": [],
   "source": [
    "params = list(sccnet_si.parameters())\n",
    "optimizer = optim.Adam(params, lr=1e-3)"
   ]
  },
  {
   "cell_type": "code",
   "execution_count": 29,
   "metadata": {},
   "outputs": [
    {
     "output_type": "stream",
     "name": "stdout",
     "text": [
      "Start Training...\n",
      "Done.\n"
     ]
    }
   ],
   "source": [
    "\"\"\" Training \"\"\"\n",
    "print('Start Training...')\n",
    "for epoch in range(clf_epoch):\n",
    "    sccnet_si.train()\n",
    "    for x_train, y_train in trainloader_sift:\n",
    "        \n",
    "        pred = sccnet_si(x_train)\n",
    "        loss = cls_criterion(pred, y_train)\n",
    "        \n",
    "        loss.backward()\n",
    "        optimizer.step()\n",
    "        optimizer.zero_grad()\n",
    "\n",
    "\"\"\" Testing \"\"\"\n",
    "sccnet_si.eval()\n",
    "acc = 0\n",
    "clf_acc_sift = torch.tensor([0,0,0,0], dtype=torch.float).to(dev)\n",
    "cls_count_sift = torch.unique(testloader_sift.dataset[:][1], return_counts=True)[1]\n",
    "confuse_m_sift = torch.zeros((4,4), dtype=torch.int) # row = prediction, column = ground truth\n",
    "for x_test, y_test in testloader_sift:\n",
    "    pred = sccnet_si(x_test)\n",
    "    pred_label = pred.argmax().long()\n",
    "    y_test = y_test.long()\n",
    "    confuse_m_sift[pred_label, y_test] += 1\n",
    "    if pred_label == y_test:\n",
    "        acc += 1\n",
    "        clf_acc_sift[pred.argmax()] += 1\n",
    "acc /= len(testloader_sift)\n",
    "clf_acc_sift = (clf_acc_sift/cls_count_sift).tolist()\n",
    "confuse_m_sift = confuse_m_sift.tolist()\n",
    "print('Done.')"
   ]
  },
  {
   "cell_type": "code",
   "execution_count": 30,
   "metadata": {},
   "outputs": [
    {
     "output_type": "stream",
     "name": "stdout",
     "text": [
      "Accuracy of SCCNetSI+FT: 0.756944\n-----------------------------------\nOverall Accuracy:\nLabel\tAccuracy\n0\t0.958333\n1\t0.791667\n2\t0.597222\n3\t0.680556\n-----------------------------------\nConfusion matrix (Prediction by Ground Truth):\n69 13 8 5\n1 57 1 0\n2 1 43 18\n0 1 20 49\n"
     ]
    }
   ],
   "source": [
    "utils.print_metric(model='SCCNet', scheme='SI+FT', acc=acc, clf_acc=clf_acc_sift, conf_m=confuse_m_sift)"
   ]
  },
  {
   "source": [
    "## TSception\n",
    "### Individual"
   ],
   "cell_type": "markdown",
   "metadata": {}
  },
  {
   "cell_type": "code",
   "execution_count": 3,
   "metadata": {},
   "outputs": [],
   "source": [
    "x_train, y_train, x_test, y_test = utils.load_data(data_path=data_path, subject='S01', dev=dev)\n",
    "trainloader, testloader = utils.bci2a_dataloader(x_train, y_train, x_test, y_test,                                                              batch_size=32, shuffle_train=shuffle)"
   ]
  },
  {
   "cell_type": "code",
   "execution_count": 7,
   "metadata": {},
   "outputs": [],
   "source": [
    "TSception = model.TSception(num_classes=4, input_size=(1,22,562), sampling_rate=125, num_T=9, num_S=6, hidden=128, dropout_rate=0.3).to(dev)\n",
    "params = list(TSception.parameters())\n",
    "optimizer = optim.Adam(params,lr=1e-3)"
   ]
  },
  {
   "cell_type": "code",
   "execution_count": 8,
   "metadata": {},
   "outputs": [
    {
     "output_type": "stream",
     "name": "stdout",
     "text": [
      "Start Training...\n",
      "Done.\n"
     ]
    }
   ],
   "source": [
    "\"\"\" Training \"\"\"\n",
    "print('Start Training...')\n",
    "for epoch in range(clf_epoch):\n",
    "    TSception.train()\n",
    "    for x_train, y_train in trainloader:\n",
    "        \n",
    "        pred = TSception(x_train)\n",
    "        loss = cls_criterion(pred, y_train)\n",
    "        \n",
    "        loss.backward()\n",
    "        optimizer.step()\n",
    "        optimizer.zero_grad()\n",
    "\n",
    "\"\"\" Testing \"\"\"\n",
    "TSception.eval()\n",
    "acc = 0\n",
    "clf_acc = torch.tensor([0,0,0,0], dtype=torch.float).to(dev)\n",
    "cls_count = torch.unique(testloader.dataset[:][1], return_counts=True)[1]\n",
    "confuse_m = torch.zeros((4,4), dtype=torch.int) # row = prediction, column = ground truth\n",
    "for x_test, y_test in testloader:\n",
    "    pred = TSception(x_test)\n",
    "    pred_label = pred.argmax().long()\n",
    "    y_test = y_test.long()\n",
    "    confuse_m[pred_label, y_test] += 1\n",
    "    if pred_label == y_test:\n",
    "        acc += 1\n",
    "        clf_acc[pred.argmax()] += 1\n",
    "acc /=len(testloader)\n",
    "clf_acc = (clf_acc/cls_count).tolist()\n",
    "confuse_m = confuse_m.tolist()\n",
    "print('Done.')"
   ]
  },
  {
   "cell_type": "code",
   "execution_count": 9,
   "metadata": {},
   "outputs": [
    {
     "output_type": "stream",
     "name": "stdout",
     "text": [
      "Accuracy of TSceptionIndividual: 0.486111\n-----------------------------------\nOverall Accuracy:\nLabel\tAccuracy\n0\t0.347222\n1\t0.652778\n2\t0.333333\n3\t0.611111\n-----------------------------------\nConfusion matrix (Prediction by Ground Truth):\n25 21 10 6\n32 47 8 3\n7 3 24 19\n8 1 30 44\n"
     ]
    }
   ],
   "source": [
    "utils.print_metric(model='TSception', scheme='Individual', acc=acc, clf_acc=clf_acc, conf_m=confuse_m)"
   ]
  },
  {
   "source": [
    "### Subject Independent"
   ],
   "cell_type": "markdown",
   "metadata": {}
  },
  {
   "cell_type": "code",
   "execution_count": 11,
   "metadata": {},
   "outputs": [],
   "source": [
    "x_train, y_train, x_test, y_test = utils.load_data_si(data_path=data_path,subject_list=subject_list,  subject2leave='S01', dev=dev)\n",
    "trainloader_si, testloader_si = utils.bci2a_dataloader(x_train, y_train, x_test, y_test,                                                              batch_size=32, shuffle_train=shuffle)"
   ]
  },
  {
   "cell_type": "code",
   "execution_count": 10,
   "metadata": {},
   "outputs": [],
   "source": [
    "TSception_si = model.TSception(num_classes=4, input_size=(1,22,562), sampling_rate=125, num_T=9, num_S=6, hidden=128, dropout_rate=0.3).to(dev)\n",
    "params = list(TSception_si.parameters())\n",
    "optimizer = optim.Adam(params,lr=1e-3)"
   ]
  },
  {
   "cell_type": "code",
   "execution_count": 12,
   "metadata": {},
   "outputs": [
    {
     "output_type": "stream",
     "name": "stdout",
     "text": [
      "Start Training...\n",
      "Done.\n"
     ]
    }
   ],
   "source": [
    "\"\"\" Training \"\"\"\n",
    "print('Start Training...')\n",
    "for epoch in range(clf_epoch):\n",
    "    TSception_si.train()\n",
    "    for x_train, y_train in trainloader_si:\n",
    "        \n",
    "        pred = TSception_si(x_train)\n",
    "        loss = cls_criterion(pred, y_train)\n",
    "        \n",
    "        loss.backward()\n",
    "        optimizer.step()\n",
    "        optimizer.zero_grad()\n",
    "\n",
    "\"\"\" Testing \"\"\"\n",
    "TSception_si.eval()\n",
    "acc = 0\n",
    "clf_acc_si = torch.tensor([0,0,0,0], dtype=torch.float).to(dev)\n",
    "cls_count_si = torch.unique(testloader_si.dataset[:][1], return_counts=True)[1]\n",
    "confuse_m_si = torch.zeros((4,4), dtype=torch.int) # row = prediction, column = ground truth\n",
    "for x_test, y_test in testloader_si:\n",
    "    pred = TSception_si(x_test)\n",
    "    pred_label = pred.argmax().long()\n",
    "    y_test = y_test.long()\n",
    "    confuse_m_si[pred_label, y_test] += 1\n",
    "    if pred_label == y_test:\n",
    "        acc += 1\n",
    "        clf_acc_si[pred.argmax()] += 1\n",
    "acc /=len(testloader_si)\n",
    "clf_acc_si = (clf_acc_si/cls_count_si).tolist()\n",
    "confuse_m_si = confuse_m_si.tolist()\n",
    "print('Done.')"
   ]
  },
  {
   "cell_type": "code",
   "execution_count": 13,
   "metadata": {},
   "outputs": [
    {
     "output_type": "stream",
     "name": "stdout",
     "text": [
      "Accuracy of TSceptionSI: 0.409722\n-----------------------------------\nOverall Accuracy:\nLabel\tAccuracy\n0\t0.555556\n1\t0.388889\n2\t0.250000\n3\t0.444444\n-----------------------------------\nConfusion matrix (Prediction by Ground Truth):\n40 27 14 13\n14 28 20 12\n8 11 18 15\n10 6 20 32\n"
     ]
    }
   ],
   "source": [
    "utils.print_metric(model='TSception', scheme='SI', acc=acc, clf_acc=clf_acc_si, conf_m=confuse_m_si)"
   ]
  },
  {
   "source": [
    "### Subject Dependent"
   ],
   "cell_type": "markdown",
   "metadata": {}
  },
  {
   "cell_type": "code",
   "execution_count": 14,
   "metadata": {},
   "outputs": [],
   "source": [
    "x_train, y_train, x_test, y_test = utils.load_data_sd(data_path=data_path,subject_list=subject_list,  subject2leave='S01', dev=dev)\n",
    "trainloader_sd, testloader_sd = utils.bci2a_dataloader(x_train, y_train, x_test, y_test,                                                              batch_size=32, shuffle_train=shuffle)"
   ]
  },
  {
   "cell_type": "code",
   "execution_count": 15,
   "metadata": {},
   "outputs": [],
   "source": [
    "TSception_sd = model.ShallowConvNet().to(dev)\n",
    "params = list(TSception_sd.parameters())\n",
    "optimizer = optim.Adam(params, lr=1e-3)"
   ]
  },
  {
   "cell_type": "code",
   "execution_count": 16,
   "metadata": {},
   "outputs": [
    {
     "output_type": "stream",
     "name": "stdout",
     "text": [
      "Start Training...\n",
      "Done.\n"
     ]
    }
   ],
   "source": [
    "\"\"\" Training \"\"\"\n",
    "print('Start Training...')\n",
    "for epoch in range(clf_epoch):\n",
    "    TSception_sd.train()\n",
    "    for x_train, y_train in trainloader_sd:\n",
    "        \n",
    "        pred = TSception_sd(x_train)\n",
    "        loss = cls_criterion(pred, y_train)\n",
    "        \n",
    "        loss.backward()\n",
    "        optimizer.step()\n",
    "        optimizer.zero_grad()\n",
    "\n",
    "\"\"\" Testing \"\"\"\n",
    "TSception_sd.eval()\n",
    "acc = 0\n",
    "clf_acc_sd = torch.tensor([0,0,0,0], dtype=torch.float).to(dev)\n",
    "cls_count_sd = torch.unique(testloader_sd.dataset[:][1], return_counts=True)[1]\n",
    "confuse_m_sd = torch.zeros((4,4), dtype=torch.int) # row = prediction, column = ground truth\n",
    "for x_test, y_test in testloader_sd:\n",
    "    pred = TSception_sd(x_test)\n",
    "    pred_label = pred.argmax().long()\n",
    "    y_test = y_test.long()\n",
    "    confuse_m_sd[pred_label, y_test] += 1\n",
    "    if pred_label == y_test:\n",
    "        acc += 1\n",
    "        clf_acc_sd[pred.argmax()] += 1\n",
    "acc /=len(testloader_sd)\n",
    "clf_acc_sd = (clf_acc_sd/cls_count_sd).tolist()\n",
    "confuse_m_sd = confuse_m_sd.tolist()\n",
    "print('Done.')"
   ]
  },
  {
   "cell_type": "code",
   "execution_count": 17,
   "metadata": {},
   "outputs": [
    {
     "output_type": "stream",
     "name": "stdout",
     "text": [
      "Accuracy of TSceptionSD: 0.750000\n-----------------------------------\nOverall Accuracy:\nLabel\tAccuracy\n0\t0.930556\n1\t0.819444\n2\t0.638889\n3\t0.611111\n-----------------------------------\nConfusion matrix (Prediction by Ground Truth):\n67 9 6 6\n4 59 3 4\n1 2 46 18\n0 2 17 44\n"
     ]
    }
   ],
   "source": [
    "utils.print_metric(model='TSception', scheme='SD', acc=acc, clf_acc=clf_acc_sd, conf_m=confuse_m_sd)"
   ]
  },
  {
   "source": [
    "### SI+FT"
   ],
   "cell_type": "markdown",
   "metadata": {}
  },
  {
   "cell_type": "code",
   "execution_count": 18,
   "metadata": {},
   "outputs": [],
   "source": [
    "x_train, y_train, x_test, y_test = utils.load_data(data_path=data_path, subject='S01', dev=dev)\n",
    "trainloader_sift, testloader_sift = utils.bci2a_dataloader(x_train, y_train, x_test, y_test,                                                              batch_size=32, shuffle_train=shuffle)"
   ]
  },
  {
   "cell_type": "code",
   "execution_count": 19,
   "metadata": {},
   "outputs": [],
   "source": [
    "params = list(TSception_si.parameters())\n",
    "optimizer = optim.Adam(params, lr=1e-3)"
   ]
  },
  {
   "cell_type": "code",
   "execution_count": 20,
   "metadata": {},
   "outputs": [
    {
     "output_type": "stream",
     "name": "stdout",
     "text": [
      "Start Training...\n",
      "Done.\n"
     ]
    }
   ],
   "source": [
    "\"\"\" Training \"\"\"\n",
    "print('Start Training...')\n",
    "for epoch in range(clf_epoch):\n",
    "    TSception_si.train()\n",
    "    for x_train, y_train in trainloader_sift:\n",
    "        \n",
    "        pred = TSception_si(x_train)\n",
    "        loss = cls_criterion(pred, y_train)\n",
    "        \n",
    "        loss.backward()\n",
    "        optimizer.step()\n",
    "        optimizer.zero_grad()\n",
    "\n",
    "\"\"\" Testing \"\"\"\n",
    "TSception_si.eval()\n",
    "acc = 0\n",
    "clf_acc_sift = torch.tensor([0,0,0,0], dtype=torch.float).to(dev)\n",
    "cls_count_sift = torch.unique(testloader_sift.dataset[:][1], return_counts=True)[1]\n",
    "confuse_m_sift = torch.zeros((4,4), dtype=torch.int) # row = prediction, column = ground truth\n",
    "for x_test, y_test in testloader_sift:\n",
    "    pred = TSception_si(x_test)\n",
    "    pred_label = pred.argmax().long()\n",
    "    y_test = y_test.long()\n",
    "    confuse_m_sift[pred_label, y_test] += 1\n",
    "    if pred_label == y_test:\n",
    "        acc += 1\n",
    "        clf_acc_sift[pred.argmax()] += 1\n",
    "acc /= len(testloader_sift)\n",
    "clf_acc_sift = (clf_acc_sift/cls_count_sift).tolist()\n",
    "confuse_m_sift = confuse_m_sift.tolist()\n",
    "print('Done.')"
   ]
  },
  {
   "cell_type": "code",
   "execution_count": 21,
   "metadata": {},
   "outputs": [
    {
     "output_type": "stream",
     "name": "stdout",
     "text": [
      "Accuracy of TSceptionSI+FT: 0.538194\n-----------------------------------\nOverall Accuracy:\nLabel\tAccuracy\n0\t0.416667\n1\t0.666667\n2\t0.388889\n3\t0.680556\n-----------------------------------\nConfusion matrix (Prediction by Ground Truth):\n30 13 7 4\n29 48 11 2\n6 8 28 17\n7 3 26 49\n"
     ]
    }
   ],
   "source": [
    "utils.print_metric(model='TSception', scheme='SI+FT', acc=acc, clf_acc=clf_acc_sift, conf_m=confuse_m_sift)"
   ]
  },
  {
   "cell_type": "code",
   "execution_count": null,
   "metadata": {},
   "outputs": [],
   "source": []
  }
 ]
}